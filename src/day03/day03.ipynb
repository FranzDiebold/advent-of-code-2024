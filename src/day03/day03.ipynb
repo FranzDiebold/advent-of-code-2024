{
 "cells": [
  {
   "cell_type": "code",
   "execution_count": 1,
   "id": "53d608a5-0cea-43fb-95ed-9470000b34d5",
   "metadata": {},
   "outputs": [],
   "source": [
    "from pyspark.sql import DataFrame, SparkSession, Window\n",
    "from pyspark.sql import functions as F\n",
    "from pyspark.sql.types import IntegerType"
   ]
  },
  {
   "cell_type": "code",
   "execution_count": 2,
   "id": "c8bd3a2b-685a-4dae-940e-7d260617e658",
   "metadata": {},
   "outputs": [],
   "source": [
    "spark = SparkSession.builder.appName(\"advent-of-code-2024\").getOrCreate()"
   ]
  },
  {
   "cell_type": "code",
   "execution_count": 3,
   "id": "1cf1aebc-7d7d-4cca-bfe6-38b29d3fb489",
   "metadata": {},
   "outputs": [],
   "source": [
    "def calculate_sum_of_multiplications(df: DataFrame) -> int:\n",
    "    global_regex = r\"(mul\\(\\d{1,3},\\d{1,3}\\))\"\n",
    "    local_regex = r\"^mul\\((\\d{1,3}),(\\d{1,3})\\)$\"\n",
    "    return (\n",
    "        df.withColumn(\n",
    "            \"multiplication_codes\",\n",
    "            F.explode(F.regexp_extract_all(F.col(\"value\"), F.lit(global_regex))),\n",
    "        )\n",
    "        .withColumns(\n",
    "            {\n",
    "                \"a\": F.regexp_extract_all(\n",
    "                    \"multiplication_codes\", F.lit(local_regex), F.lit(1)\n",
    "                )\n",
    "                .getItem(0)\n",
    "                .cast(IntegerType()),\n",
    "                \"b\": F.regexp_extract_all(\n",
    "                    \"multiplication_codes\", F.lit(local_regex), F.lit(2)\n",
    "                )\n",
    "                .getItem(0)\n",
    "                .cast(IntegerType()),\n",
    "            }\n",
    "        )\n",
    "        .withColumn(\n",
    "            \"multiplication_results\",\n",
    "            F.col(\"a\") * F.col(\"b\"),\n",
    "        )\n",
    "        .agg(F.sum(\"multiplication_results\"))\n",
    "        .collect()[0][0]\n",
    "    )"
   ]
  },
  {
   "cell_type": "code",
   "execution_count": 4,
   "id": "eb0a22e1-e739-446a-a588-58e01f5896c1",
   "metadata": {},
   "outputs": [
    {
     "name": "stdout",
     "output_type": "stream",
     "text": [
      "Solution: 153469856\n"
     ]
    }
   ],
   "source": [
    "def part_1(input_file_name: str) -> int:\n",
    "    df = spark.read.text(input_file_name)\n",
    "    return calculate_sum_of_multiplications(df)\n",
    "\n",
    "\n",
    "assert part_1(\"test-input-1.txt\") == 161\n",
    "\n",
    "print(f'Solution: {part_1(\"input.txt\")}')"
   ]
  },
  {
   "cell_type": "code",
   "execution_count": 5,
   "id": "8f48c155-f87c-496a-9d8b-68981f6b5f39",
   "metadata": {},
   "outputs": [
    {
     "name": "stdout",
     "output_type": "stream",
     "text": [
      "Solution: 77055967\n"
     ]
    }
   ],
   "source": [
    "def part_2(input_file_name: str) -> int:\n",
    "    window = Window.orderBy(\"line_id\", \"sub_line_id\")\n",
    "    df = (\n",
    "        spark.read.text(input_file_name)\n",
    "        .withColumn(\"line_id\", F.monotonically_increasing_id())\n",
    "        .select(\n",
    "            \"*\",\n",
    "            F.posexplode(F.split(F.col(\"value\"), F.lit(r\"do\\(\\)\"))).alias(\n",
    "                \"sub_line_id\", \"do_sub_line\"\n",
    "            ),\n",
    "        )\n",
    "        .withColumn(\"next_line_id\", F.lead(F.col(\"line_id\")).over(window))\n",
    "        .withColumn(\"next_do_sub_line\", F.lead(F.col(\"do_sub_line\")).over(window))\n",
    "        .withColumn(\n",
    "            \"relevant_do_sub_line\",\n",
    "            F.when(\n",
    "                F.col(\"line_id\") + 1 == F.col(\"next_line_id\"),\n",
    "                F.concat(F.col(\"do_sub_line\"), F.col(\"next_do_sub_line\")),\n",
    "            ).otherwise(F.col(\"do_sub_line\")),\n",
    "        )\n",
    "        .filter((F.col(\"sub_line_id\") > 0) | (F.col(\"line_id\") == 0))\n",
    "        .withColumn(\n",
    "            \"relevant_sub_sub_lines\",\n",
    "            F.split(F.col(\"relevant_do_sub_line\"), F.lit(r\"don't\\(\\)\")).getItem(0),\n",
    "        )\n",
    "        .select(F.col(\"relevant_sub_sub_lines\").alias(\"value\"))\n",
    "    )\n",
    "    return calculate_sum_of_multiplications(df)\n",
    "\n",
    "\n",
    "assert part_2(\"test-input-2.txt\") == 48\n",
    "\n",
    "print(f'Solution: {part_2(\"input.txt\")}')"
   ]
  }
 ],
 "metadata": {
  "kernelspec": {
   "display_name": "Python 3 (ipykernel)",
   "language": "python",
   "name": "python3"
  },
  "language_info": {
   "codemirror_mode": {
    "name": "ipython",
    "version": 3
   },
   "file_extension": ".py",
   "mimetype": "text/x-python",
   "name": "python",
   "nbconvert_exporter": "python",
   "pygments_lexer": "ipython3",
   "version": "3.12.8"
  }
 },
 "nbformat": 4,
 "nbformat_minor": 5
}
