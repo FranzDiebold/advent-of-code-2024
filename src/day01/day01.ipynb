{
 "cells": [
  {
   "cell_type": "code",
   "execution_count": 1,
   "id": "7cdca4c7-2e2a-474e-9802-a293cdcb7359",
   "metadata": {},
   "outputs": [],
   "source": [
    "from pyspark.sql import DataFrame, SparkSession, Window\n",
    "from pyspark.sql import functions as F\n",
    "from pyspark.sql.types import IntegerType"
   ]
  },
  {
   "cell_type": "code",
   "execution_count": 2,
   "id": "1b32707d-a4fa-470a-b02a-52fa57eda139",
   "metadata": {},
   "outputs": [],
   "source": [
    "spark = SparkSession.builder.appName(\"advent-of-code-2024\").getOrCreate()"
   ]
  },
  {
   "cell_type": "code",
   "execution_count": 3,
   "id": "4bd80136-3fbc-4dfb-ad12-908c64b99a05",
   "metadata": {},
   "outputs": [],
   "source": [
    "def read_input(input_file_name: str) -> DataFrame:\n",
    "    return (\n",
    "        spark.read.text(input_file_name)\n",
    "        .withColumn(\"pair_array\", F.split(F.col(\"value\"), r\"\\s+\"))\n",
    "        .withColumns(\n",
    "            {\n",
    "                f\"value_{idx}\": F.col(\"pair_array\").getItem(idx).cast(IntegerType())\n",
    "                for idx in range(2)\n",
    "            }\n",
    "        )\n",
    "    )"
   ]
  },
  {
   "cell_type": "code",
   "execution_count": 4,
   "id": "462590c7-6200-4d53-9e8d-1a7ecc3e952b",
   "metadata": {},
   "outputs": [
    {
     "name": "stdout",
     "output_type": "stream",
     "text": [
      "Solution: 3574690\n"
     ]
    }
   ],
   "source": [
    "def part_1(input_file_name: str) -> int:\n",
    "    raw_df = read_input(input_file_name)\n",
    "\n",
    "    sorted_values_df_list = []\n",
    "    for idx in range(2):\n",
    "        sorted_values_df = (\n",
    "            raw_df.select(F.col(f\"value_{idx}\"))\n",
    "            .sort(F.col(f\"value_{idx}\"))\n",
    "            .withColumn(\"id\", F.monotonically_increasing_id())\n",
    "        )\n",
    "        sorted_values_df_list.append(sorted_values_df)\n",
    "\n",
    "    return (\n",
    "        sorted_values_df_list[0]\n",
    "        .join(sorted_values_df_list[1], \"id\", \"inner\")\n",
    "        .drop(F.col(\"id\"))\n",
    "        .withColumn(\"value_difference\", F.abs(F.col(\"value_0\") - F.col(\"value_1\")))\n",
    "        .agg(F.sum(F.col(\"value_difference\")))\n",
    "        .collect()[0][0]\n",
    "    )\n",
    "\n",
    "\n",
    "assert part_1(\"test-input.txt\") == 11\n",
    "\n",
    "print(f'Solution: {part_1(\"input.txt\")}')"
   ]
  },
  {
   "cell_type": "code",
   "execution_count": 15,
   "id": "e45911be-d9b1-44ea-acf9-ac96be6bb74a",
   "metadata": {},
   "outputs": [
    {
     "name": "stdout",
     "output_type": "stream",
     "text": [
      "Solution: 22565391\n"
     ]
    }
   ],
   "source": [
    "def part_2(input_file_name: str) -> int:\n",
    "    raw_df = read_input(input_file_name)\n",
    "\n",
    "    counter_2_df = raw_df.groupBy(F.col(\"value_1\")).count()\n",
    "\n",
    "    return (\n",
    "        raw_df.join(counter_2_df, raw_df.value_0 == counter_2_df.value_1)\n",
    "        .withColumn(\"similarity_score\", F.col(\"value_0\") * F.col(\"count\"))\n",
    "        .agg(F.sum(\"similarity_score\"))\n",
    "        .collect()[0][0]\n",
    "    )\n",
    "\n",
    "\n",
    "assert part_2(\"test-input.txt\") == 31\n",
    "\n",
    "print(f'Solution: {part_2(\"input.txt\")}')"
   ]
  }
 ],
 "metadata": {
  "kernelspec": {
   "display_name": "Python 3 (ipykernel)",
   "language": "python",
   "name": "python3"
  },
  "language_info": {
   "codemirror_mode": {
    "name": "ipython",
    "version": 3
   },
   "file_extension": ".py",
   "mimetype": "text/x-python",
   "name": "python",
   "nbconvert_exporter": "python",
   "pygments_lexer": "ipython3",
   "version": "3.12.7"
  }
 },
 "nbformat": 4,
 "nbformat_minor": 5
}
