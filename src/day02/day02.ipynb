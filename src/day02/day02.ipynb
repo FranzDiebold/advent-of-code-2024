{
 "cells": [
  {
   "cell_type": "code",
   "execution_count": 134,
   "id": "53d608a5-0cea-43fb-95ed-9470000b34d5",
   "metadata": {},
   "outputs": [],
   "source": [
    "from typing import Tuple, List\n",
    "\n",
    "from pyspark.sql import DataFrame, SparkSession\n",
    "from pyspark.sql import functions as F\n",
    "from pyspark.sql.types import (\n",
    "    ArrayType,\n",
    "    BooleanType,\n",
    "    IntegerType,\n",
    "    StructField,\n",
    "    StructType,\n",
    ")"
   ]
  },
  {
   "cell_type": "code",
   "execution_count": 135,
   "id": "c8bd3a2b-685a-4dae-940e-7d260617e658",
   "metadata": {},
   "outputs": [],
   "source": [
    "spark = SparkSession.builder.appName(\"advent-of-code-2024\").getOrCreate()"
   ]
  },
  {
   "cell_type": "code",
   "execution_count": 136,
   "id": "0d53d854-2275-467b-ac25-c0c1dede82e0",
   "metadata": {},
   "outputs": [
    {
     "name": "stdout",
     "output_type": "stream",
     "text": [
      "Solution: 314\n"
     ]
    }
   ],
   "source": [
    "def read_input(input_file_name: str) -> Tuple[DataFrame, int]:\n",
    "    num_cols = (\n",
    "        spark.read.text(input_file_name)\n",
    "        .withColumn(\"num_cols\", F.size(F.split(F.col(\"value\"), \" \")))\n",
    "        .agg(F.max(F.col(\"num_cols\")))\n",
    "        .collect()[0][0]\n",
    "    )\n",
    "    schema = StructType(\n",
    "        [StructField(f\"value_{idx}\", IntegerType()) for idx in range(num_cols)]\n",
    "    )\n",
    "    return (\n",
    "        spark.read.option(\"delimiter\", \" \").csv(\n",
    "            input_file_name, header=False, schema=schema\n",
    "        )\n",
    "    ), num_cols\n",
    "\n",
    "\n",
    "def part_1(input_file_name: str) -> int:\n",
    "    input_df, num_cols = read_input(input_file_name)\n",
    "    num_diffs = num_cols - 1\n",
    "\n",
    "    return (\n",
    "        input_df.withColumns(\n",
    "            {\n",
    "                f\"diff_{idx}\": (F.col(f\"value_{idx+1}\") - F.col(f\"value_{idx}\"))\n",
    "                for idx in range(num_diffs)\n",
    "            }\n",
    "        )\n",
    "        .withColumn(\"min\", F.least(*[F.col(f\"diff_{idx}\") for idx in range(num_diffs)]))\n",
    "        .withColumn(\n",
    "            \"max\", F.greatest(*[F.col(f\"diff_{idx}\") for idx in range(num_diffs)])\n",
    "        )\n",
    "        .withColumn(\n",
    "            \"min_abs\",\n",
    "            F.least(*[F.abs(F.col(f\"diff_{idx}\")) for idx in range(num_diffs)]),\n",
    "        )\n",
    "        .withColumn(\n",
    "            \"max_abs\",\n",
    "            F.greatest(*[F.abs(F.col(f\"diff_{idx}\")) for idx in range(num_diffs)]),\n",
    "        )\n",
    "        .filter(\n",
    "            (F.col(\"min\") * F.col(\"max\") > 0)\n",
    "            & (F.col(\"min_abs\") >= 1)\n",
    "            & (F.col(\"max_abs\") <= 3)\n",
    "        )\n",
    "        .count()\n",
    "    )\n",
    "\n",
    "\n",
    "assert part_1(\"test-input.txt\") == 2\n",
    "\n",
    "print(f'Solution: {part_1(\"input.txt\")}')"
   ]
  },
  {
   "cell_type": "code",
   "execution_count": 144,
   "id": "7af72fbe-798f-463e-b709-e0e52c0f119e",
   "metadata": {},
   "outputs": [
    {
     "name": "stdout",
     "output_type": "stream",
     "text": [
      "Solution: 373\n"
     ]
    }
   ],
   "source": [
    "def is_safe(values: List[int]) -> bool:\n",
    "    differences = [b - a for a, b in zip(values, values[1:])]\n",
    "    return all(\n",
    "        [difference >= 1 and difference <= 3 for difference in differences]\n",
    "    ) or all([difference >= -3 and difference <= -1 for difference in differences])\n",
    "\n",
    "\n",
    "@F.udf(BooleanType())\n",
    "def is_safe_using_dampener(values: List[int]) -> bool:\n",
    "    if is_safe(values):\n",
    "        return True\n",
    "    else:\n",
    "        for idx in range(len(values)):\n",
    "            if is_safe(values[:idx] + values[idx + 1 :]):\n",
    "                return True\n",
    "    return False\n",
    "\n",
    "\n",
    "def part_2(input_file_name: str) -> int:\n",
    "    return (\n",
    "        spark.read.text(input_file_name)\n",
    "        .withColumn(\n",
    "            \"values\", F.split(F.col(\"value\"), \" \").cast(ArrayType(IntegerType()))\n",
    "        )\n",
    "        .withColumn(\"is_safe\", is_safe_using_dampener(F.col(\"values\")))\n",
    "        .filter(F.col(\"is_safe\") == True)\n",
    "        .count()\n",
    "    )\n",
    "\n",
    "\n",
    "assert part_2(\"test-input.txt\") == 4\n",
    "\n",
    "print(f'Solution: {part_2(\"input.txt\")}')"
   ]
  }
 ],
 "metadata": {
  "kernelspec": {
   "display_name": "Python 3 (ipykernel)",
   "language": "python",
   "name": "python3"
  },
  "language_info": {
   "codemirror_mode": {
    "name": "ipython",
    "version": 3
   },
   "file_extension": ".py",
   "mimetype": "text/x-python",
   "name": "python",
   "nbconvert_exporter": "python",
   "pygments_lexer": "ipython3",
   "version": "3.12.8"
  }
 },
 "nbformat": 4,
 "nbformat_minor": 5
}
